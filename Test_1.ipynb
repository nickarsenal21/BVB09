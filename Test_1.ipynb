{
 "cells": [
  {
   "cell_type": "markdown",
   "id": "68c53022-4169-4f18-9d1e-48575d8d0a2d",
   "metadata": {},
   "source": [
    "# My Jupyter Notebook on IBM Watson Studio"
   ]
  },
  {
   "cell_type": "markdown",
   "id": "f3abcda6-9a74-4901-81d3-4b59c591a53b",
   "metadata": {},
   "source": [
    "__Nikhil Manral__"
   ]
  },
  {
   "cell_type": "markdown",
   "id": "dcc23c02-26b6-4336-95bd-b01cd9d26529",
   "metadata": {},
   "source": [
    "Data Scientist"
   ]
  },
  {
   "cell_type": "markdown",
   "id": "1b41f769-eab5-40e3-86b2-cf2504651509",
   "metadata": {
    "tags": []
   },
   "source": [
    "_I want to become data scientist because my current profession is simply not for me and I would like to build a better life for myself and be happy._"
   ]
  },
  {
   "cell_type": "markdown",
   "id": "f980fe20-b342-4ddc-9fc1-90280e298954",
   "metadata": {},
   "source": [
    "### The code below illustrates how to add two numbers in Python"
   ]
  },
  {
   "cell_type": "code",
   "execution_count": 1,
   "id": "8ddbb4a2-5d26-402e-9902-660668bb1913",
   "metadata": {},
   "outputs": [
    {
     "data": {
      "text/plain": [
       "76"
      ]
     },
     "execution_count": 1,
     "metadata": {},
     "output_type": "execute_result"
    }
   ],
   "source": [
    "70+6"
   ]
  },
  {
   "cell_type": "markdown",
   "id": "fe67f44c-0a97-4c92-9763-c3b54126f302",
   "metadata": {},
   "source": [
    "1. Python\n",
    "2. R\n",
    "3. SQL\n",
    "4. JAVA\n",
    "5. C++"
   ]
  },
  {
   "cell_type": "markdown",
   "id": "24e3fd41-c0c8-447b-a001-4e583402400e",
   "metadata": {},
   "source": [
    "* Geology\n",
    "* Reservoir\n",
    "* Geophysics\n",
    "* Exploration\n",
    "* GeoChemistry"
   ]
  },
  {
   "cell_type": "code",
   "execution_count": null,
   "id": "fed0b295-3345-48ab-a7a1-d4b4be489940",
   "metadata": {},
   "outputs": [],
   "source": [
    "|WOB(T)|ROP(min/m)|\n",
    "|------|----------|\n",
    "|3|10|\n",
    "|2|9|\n",
    "|3|11|"
   ]
  }
 ],
 "metadata": {
  "kernelspec": {
   "display_name": "Python",
   "language": "python",
   "name": "conda-env-python-py"
  },
  "language_info": {
   "codemirror_mode": {
    "name": "ipython",
    "version": 3
   },
   "file_extension": ".py",
   "mimetype": "text/x-python",
   "name": "python",
   "nbconvert_exporter": "python",
   "pygments_lexer": "ipython3",
   "version": "3.7.12"
  }
 },
 "nbformat": 4,
 "nbformat_minor": 5
}
